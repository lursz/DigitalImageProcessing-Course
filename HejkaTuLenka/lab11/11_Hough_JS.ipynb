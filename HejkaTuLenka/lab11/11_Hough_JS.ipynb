{
 "cells": [
  {
   "cell_type": "markdown",
   "metadata": {},
   "source": [
    "# Instrukcja - Transformacja Hougha\n",
    "\n",
    "### Cel:\n",
    "- zapoznanie z transformacją Hougha dla pojedynczego punktu,\n",
    "- kilku punktów, prostych figur\n",
    "- wykorzystanie transformacji Hougha do detekcji linii prostych na rzeczywistym obrazie\n",
    "- transformacja Hougha w przestrzeni ab\n",
    "\n",
    "### Transformacja Hough'a\n",
    "\n",
    "Transformacja Hougha dla prostych jest metodą detekcji współliniowych punktów. Każda prosta może być jednoznacznie przedstawiona za pomocą dwóch parametrów. Przestrzeń tych parametrów to przestrzeń Hougha. Najczęściej wykorzystywanymi parametrami w tej metodzie są współczynniki ρ,θ\n",
    "\n",
    "opisujące równanie prostej w postaci normalnej:\n",
    "\n",
    "ρ=x⋅cos(θ)+y⋅sin(θ)\n",
    "\n",
    "gdzie: ρ - promień wodzący, θ - kąt pomiędzy ρ a osią OX.\n",
    "\n",
    "Własności transformacji Hougha:\n",
    "- prostej w przestrzeni kartezjańskiej odpowiada punkt w przestrzeni Hougha\n",
    "- pękowi prostych przechdzących przez punkt w przestrzeni kartezjańskiej odpowiada krzywa sinusoidalna w przestrzeni Hougha\n",
    "- punkty leżące na tej samej prostej (w przestrzeni kartezjańskiej) korespondują z sinusoidami przechodzącymi przez wspólny punkt w przestrzeni Hougha.\n",
    "\n",
    "Metoda wyliczania transformacji Hougha składa się z następujących kroków:\n",
    "- przez każdy badany (różny od zera) punkt obrazu prowadzony jest pęk prostych, przechodzących przez ten punkt\n",
    "- każda z tych prostych transformowana jest do przestrzeni Hougha i tworzy tam punkt o współrzędnych ρ,θ\n",
    "- w ten sposób, każdy punkt obrazu pierwotnego (pęk prostych) jest odwzorowany w sinusoidalną krzywą w przestrzeni Hougha\n",
    "\n",
    "Przestrzeń Hougha jest przestrzenią akumulacyjną tzn. punkty sinusoidalnych krzywych, wygenerowanych dla punktów obrazu pierwotnego dodają się w miejscach, w których krzywe te przecinają się. Powstałe w ten sposób (w przestrzeni Hougha) maksima odpowiadają zbiorom punktów, należących do jednej prostej. Współrzędne ρ,θ\n",
    "tego maksimum jednoznacznie określają położenie prostej na obrazie pierwotnym.\n",
    "\n",
    "### Transformacja Hougha dla małej liczby punktów.\n",
    "   1. Uruchom poniższy kod. W tablicy `im` wskaż jeden punkt, dla którego ma zostać obliczona transformata."
   ]
  },
  {
   "cell_type": "code",
   "execution_count": null,
   "metadata": {},
   "outputs": [],
   "source": [
    "import matplotlib.pyplot as plt\n",
    "import cv2\n",
    "import numpy as np\n",
    "from skimage.transform import hough_line, hough_line_peaks\n",
    "import os\n",
    "\n",
    "if not os.path.exists(\"kwadraty.png\") :\n",
    "    !wget https://raw.githubusercontent.com/vision-agh/poc_sw/master/11_Hough/kwadraty.png --no-check-certificate\n",
    "if not os.path.exists(\"lab112.png\") :\n",
    "    !wget https://raw.githubusercontent.com/vision-agh/poc_sw/master/11_Hough/lab112.png --no-check-certificate\n",
    "if not os.path.exists(\"dom.png\") :\n",
    "    !wget https://raw.githubusercontent.com/vision-agh/poc_sw/master/11_Hough/dom.png --no-check-certificate\n",
    "\n",
    "im = np.zeros((64,64), dtype=np.uint8)\n",
    "\n",
    "im[32, 32] = 1\n",
    "\n",
    "fig, ax = plt.subplots()\n",
    "fig.set_size_inches(4, 4)\n",
    "ax.imshow(im, 'gray')\n",
    "ax.axis('off')\n"
   ]
  },
  {
   "cell_type": "markdown",
   "metadata": {},
   "source": [
    "3. Wykonaj transformację Hougha obazu im. Wykorzystaj funkcję *hough_line* z modułu _skimage.transform_. Funkcja zwraca: macierz H (przestrzeń Hougha) oraz dwa wektory theta i rho dla kolejnych \n",
    "4. Wyświetl przestrzeń Hougha za pomocą funkcji _plt.imshow_ (można też wykorzystać poniższą funkcję *show_hough*). Jak \"wygląda\" pojedynczy punkt w przestrzeni Hougha?"
   ]
  },
  {
   "cell_type": "code",
   "execution_count": null,
   "metadata": {},
   "outputs": [],
   "source": [
    "def show_hough(h, image):\n",
    "    # Generating figure 1\n",
    "    fig, axes = plt.subplots(1, 2, figsize=(15, 6))\n",
    "    ax = axes.ravel()\n",
    "\n",
    "    ax[0].imshow(image, 'gray')\n",
    "    ax[0].set_title('Input image')\n",
    "    ax[0].set_axis_off()\n",
    "\n",
    "    ax[1].imshow(h, 'gray')\n",
    "    ax[1].set_title('Hough transform')\n",
    "    ax[1].set_xlabel('Angles (degrees)')\n",
    "    ax[1].set_ylabel('Distance (pixels)')\n",
    "    ax[1].axis('image')\n",
    "    \n",
    "    plt.tight_layout()\n",
    "    plt.show()    "
   ]
  },
  {
   "cell_type": "code",
   "execution_count": null,
   "metadata": {},
   "outputs": [],
   "source": [
    "hough = hough_line(im)\n",
    "show_hough(hough[0], im)"
   ]
  },
  {
   "cell_type": "markdown",
   "metadata": {},
   "source": [
    "Jak funkcja sinusoidalna"
   ]
  },
  {
   "cell_type": "code",
   "execution_count": null,
   "metadata": {},
   "outputs": [],
   "source": [
    "im1 = np.zeros((64,64), dtype=np.uint8)\n",
    "im1[32, 32] = 1\n",
    "im1[20, 20] = 1\n",
    "im1[44, 10] = 1\n",
    "hough = hough_line(im1)\n",
    "show_hough(hough[0], im1)"
   ]
  },
  {
   "cell_type": "markdown",
   "metadata": {},
   "source": [
    "5. Powtórz punkty 1-4, ale tym razem klinkij dwa punkty. Jak zmienia się przestrzeń Hougha?\n",
    "6. Powtórz punkty 1-4, ale tym razem kliknij kilka punktów starając się aby były współliniowe. Zaobserwuj zmiany w przestrzeni Hougha\n",
    "7. Poeksperymentuj z różnymi układami punktów"
   ]
  },
  {
   "cell_type": "markdown",
   "metadata": {},
   "source": [
    "### Transformata Hougha dla pojedynczego obiektu\n",
    "\n",
    "W tym podpunkcie pokazane zostanie praktycznie wykorzystanie transformaty Hougha - do detekcji prostych na sztucznym rysunku.\n",
    "\n",
    "   1. Wczytaj obraz \"kwadraty.png\". Wyświetl go.\n",
    "   2. Wykonaj detekcję krawędzi jedną z metod gradientowych. Ważne aby obraz krawędzi był jak najlepszej jakości - co oznacza cienkie (nawet niekoniecznie ciągłe) krawędzie - dla tego przypadku nie powinno być trudne do uzyskania. Wyświetl obraz po detekcji krawędzi.\n",
    "   3. Wykonaj transformatę Hougha obrazu krawędziowego. Wykorzystaj funkcję *hough\\_line*.\n",
    "   4. Wyświetl macierz H. Czy widoczna jest taka liczba maksimów jakiej się spodziewamy?"
   ]
  },
  {
   "cell_type": "code",
   "execution_count": null,
   "metadata": {},
   "outputs": [],
   "source": [
    "kwadrat = cv2.imread('kwadraty.png',cv2.IMREAD_GRAYSCALE)\n",
    "kwa_can=cv2.Canny(kwadrat,5,10,None,3,1)\n",
    "plt.imshow(kwa_can, 'gray')\n",
    "plt.axis('off')\n",
    "plt.show()"
   ]
  },
  {
   "cell_type": "code",
   "execution_count": null,
   "metadata": {},
   "outputs": [],
   "source": [
    "hough_kwadrat = hough_line(kwa_can)\n",
    "show_hough(hough_kwadrat[0], kwa_can)"
   ]
  },
  {
   "cell_type": "markdown",
   "metadata": {},
   "source": [
    "Tak widoczna jest właściwa liczba maksimów, ale widać to dopiero po narysowaniu okręgów."
   ]
  },
  {
   "cell_type": "markdown",
   "metadata": {},
   "source": [
    " 5. W module skimage.transform dostępna jest funkcja do automatycznej analizy przestrzeni Hougha - wyszukiwania maksimów - *hough\\_line\\_peaks*. Jako parametry przyjmuje ona wyniki funkcji *hough\\_line* (macierz H, theta i rho). Dodatkowo można podać próg powyżej którego punkt uznawany jest za maksimum (_threshold_ - domyslnie jest to połowa maksimum w przestrzeni H) oraz liczbę poszukiwanych maksimów (*num_peaks*). Funkcja zwraca współrzędne maksimów. Wykorzystaj funkcję *hough\\_line\\_peaks* do znalezienia maksimów odpowiadających krawędziom kwadratów.\n",
    " 6. Wyświetl macierz H używając konstrukcji:"
   ]
  },
  {
   "cell_type": "code",
   "execution_count": null,
   "metadata": {},
   "outputs": [],
   "source": [
    "h, angles, distances  = hough_line_peaks(hough_kwadrat[0],hough_kwadrat[1],hough_kwadrat[2])\n",
    "print(angles, distances)"
   ]
  },
  {
   "cell_type": "code",
   "execution_count": null,
   "metadata": {},
   "outputs": [],
   "source": [
    "import math\n",
    "angles = (angles*(180/math.pi))\n",
    "angles +=90\n",
    "distances+=363\n",
    "circle = []\n",
    "for i in range(len(angles)):\n",
    "    circle.append(plt.Circle((angles[i], distances[i]), 10, color='r', fill=False))"
   ]
  },
  {
   "cell_type": "code",
   "execution_count": null,
   "metadata": {},
   "outputs": [],
   "source": [
    "fig,ax = plt.subplots(1,figsize=(20,15))\n",
    "ax.set_aspect('equal')\n",
    "ax.imshow(hough_kwadrat[0], 'gray')\n",
    "for j in range(len(circle)):\n",
    "    ax.add_patch(circle[j])\n"
   ]
  },
  {
   "cell_type": "markdown",
   "metadata": {},
   "source": [
    "Taki zapis pozwoli na dołożenie annotacji (okręgów) w miejscach znalezionych maksimów. Wyrysowanie okręgu w punkcie x, y (o rozmiarze 10, w czerwonym kolorze, bez wypełnienia środka) realizuje wywołanie: \n",
    "\n",
    "**circle = plt.Circle((x, y), 10, color='r', fill=False)**\n",
    "\n",
    "natomiast dołożenie takiego okręgu do obrazu to:\n",
    "\n",
    "**ax.add_patch(circle)**\n",
    "\n",
    "Zaznacz maksima na obrazie wykorzystując rezultat funkcji *hough\\_line\\_peaks* biorąc pod uwagę, że zwraca ona kąty w radianach z przedziału od -pi/2 do pi/2, a rho z przedziału od -r/2 do r/2 gdzie r to pionowy rozmiar przestrzeni Hougha. "
   ]
  },
  {
   "cell_type": "markdown",
   "metadata": {},
   "source": [
    "7. Istnieje też możliwość przeprowadzenia transformacji Hougha z użyciem biblioteki OpenCV. W bibliotece znajdują się dwie wersje funkcji wyszukującej linie proste - 'klasyczna' - _HoughLines_ oraz probabilistyczna _HoughLinesP_. Zadna z nich nie zwraca przestrzeni Hougha. Wynikiem działania pierwszej jest lista parametrów prostych (krotki zawierające rho, theta). Druga zwraca krotki 4-ro elementowe ze współrzędnymi końców odcinków wykorzystanych do wylicznia parametrów (czyli znalezienia prostej). \n",
    "8. Wyznacz linie obecne na obrazie za pomocą funkcji _HoughLines_. Wykryte linie wyrysuj na obrazie początkowym (UWAGA: wczytanym bez konwersji na graylevel). Do wyświetlania linii wykorzystaj przykładowy kod:"
   ]
  },
  {
   "cell_type": "code",
   "execution_count": null,
   "metadata": {},
   "outputs": [],
   "source": [
    "I_kwadraty = cv2.imread('kwadraty.png')\n",
    "edges = cv2.Canny(I_kwadraty,70,150,apertureSize = 3)\n",
    "lines = cv2.HoughLines(edges,1,math.pi/180,65)"
   ]
  },
  {
   "cell_type": "code",
   "execution_count": null,
   "metadata": {},
   "outputs": [],
   "source": [
    "for line in lines:\n",
    "    rho,theta = line[0]\n",
    "    a = np.cos(theta)\n",
    "    b = np.sin(theta)\n",
    "    x0 = a*rho\n",
    "    y0 = b*rho\n",
    "    x1 = int(x0 + 1000*(-b))\n",
    "    y1 = int(y0 + 1000*(a))\n",
    "    x2 = int(x0 - 1000*(-b))\n",
    "    y2 = int(y0 - 1000*(a))\n",
    "\n",
    "    cv2.line(I_kwadraty,(x1,y1),(x2,y2),(0,0,255),2)"
   ]
  },
  {
   "cell_type": "code",
   "execution_count": null,
   "metadata": {},
   "outputs": [],
   "source": [
    "plt.imshow(I_kwadraty, 'gray')\n",
    "plt.axis('off')\n",
    "plt.show()"
   ]
  },
  {
   "cell_type": "markdown",
   "metadata": {},
   "source": [
    "9. Wyznacz odcinki obecne na obrazie za pomocą funkcji _HoughLinesP_. Wykryte odcinki wyrysuj na obrazie początkowym (UWAGA: wczytanym bez konwersji na graylevel). "
   ]
  },
  {
   "cell_type": "code",
   "execution_count": null,
   "metadata": {},
   "outputs": [],
   "source": [
    "I_kwadraty_2 = cv2.imread('kwadraty.png')\n",
    "lines_2 = cv2.HoughLinesP(edges,1,np.pi/180,40,minLineLength=20,maxLineGap=10)\n",
    "for line in lines_2:\n",
    "    x1,y1,x2,y2 = line[0]\n",
    "    cv2.line(I_kwadraty_2,(x1,y1),(x2,y2),(0,255,0),2)"
   ]
  },
  {
   "cell_type": "code",
   "execution_count": null,
   "metadata": {},
   "outputs": [],
   "source": [
    "plt.imshow(I_kwadraty_2, 'gray')\n",
    "plt.axis('off')\n",
    "plt.show()"
   ]
  },
  {
   "cell_type": "markdown",
   "metadata": {},
   "source": [
    "### Transformata Hougha dla obrazu rzeczywistego.\n",
    "\n",
    "Bazując na kodzie stworzonym w punkcie B wyszukamy linie na obrazie rzeczywistym.\n",
    "   1. Wczytaj obraz \"lab112.png\". Wyświetl go.\n",
    "   2. Wykorzystując wszystkie poznane techniki przetwarzania obrazów (filtracja, przekształcenia morfologiczne, binaryzację, detekcję krawędzi) wyodrębnij krawędzie samych kwadratów - tak aby były jak najlepszej jakości (cienkie) - jednocześnie eliminując z obrazu zakłócenia.\n",
    "   3. Wykorzystaj funkcje *hough_line* i *hough_line_peaks* do detekcji linii na obrazie, a następnie np. wykorzystując kod z punktu 8 poprzedniego ustępu wyrysuj na oryginalnym obrazie znalezione linie."
   ]
  },
  {
   "cell_type": "code",
   "execution_count": null,
   "metadata": {},
   "outputs": [],
   "source": [
    "I_lab_rgb = cv2.imread('lab112.png')\n",
    "I_lab = cv2.imread('lab112.png',cv2.IMREAD_GRAYSCALE)\n",
    "I_lab=np.where(I_lab>40,0,255)\n",
    "I_lab[:,500:]=0\n",
    "I_lab = I_lab.astype('uint8')\n",
    "plt.imshow(I_lab,'gray')\n",
    "plt.axis('off')\n",
    "plt.show()\n",
    "X,Y = I_lab.shape\n",
    "puste = np.zeros((X,Y,3))\n",
    "puste[:,:,0] = I_lab\n",
    "puste[:,:,1] = I_lab\n",
    "puste[:,:,2] = I_lab\n",
    "puste = puste.astype('uint8')\n",
    "\n",
    "edges = cv2.Canny(puste,50,150,apertureSize = 3)"
   ]
  },
  {
   "cell_type": "code",
   "execution_count": null,
   "metadata": {},
   "outputs": [],
   "source": [
    "lab112_H, lab112_theta, lab112_rho = hough_line(edges)\n",
    "lab112_H_2, lab112_theta_2, lab112_rho_2 = hough_line_peaks(lab112_H, lab112_theta, lab112_rho)\n",
    "theta2 = lab112_theta_2\n",
    "rho2 = lab112_rho_2\n",
    "wynik = cv2.cvtColor(I_lab, cv2.COLOR_GRAY2BGR)\n",
    "\n",
    "for i in range(0,len(theta2)):\n",
    "    rho = rho2[i]\n",
    "    theta = theta2[i]\n",
    "    a = np.cos(theta)\n",
    "    b = np.sin(theta)\n",
    "    x0 = a*rho\n",
    "    y0 = b*rho\n",
    "    x1 = int(x0 + 1000*(-b))\n",
    "    y1 = int(y0 + 1000*(a))\n",
    "    x2 = int(x0 - 1000*(-b))\n",
    "    y2 = int(y0 - 1000*(a))\n",
    "        \n",
    "    pt1 = (x1, y1)\n",
    "    pt2 = (x2, y2)\n",
    "    cv2.line(wynik, pt1, pt2, (255,0,0), 2, cv2.LINE_AA)\n",
    "\n",
    "plt.imshow(wynik)"
   ]
  },
  {
   "cell_type": "markdown",
   "metadata": {},
   "source": [
    "4. Wczytaj obraz \"dom.png\". Wypróbuj działanie transformacji Hougha na tym obrazie z wykorzystaniem funkcji _cv2.HoughLinesP_  (oczywiście po odpowiednich przekształceniach). Postaraj się tak przygotować obraz z krawędziami i dobrać parametry aby wyrysować na oryginalnym obrazie odcinki obejmujące zarysy domu. Weź pod uwage dodatkowe parametry funkcji, takie jak:   minLineLength, maxLineGap."
   ]
  },
  {
   "cell_type": "code",
   "execution_count": null,
   "metadata": {},
   "outputs": [],
   "source": [
    "I_dom_rgb = cv2.imread('dom.png')\n",
    "I_dom = cv2.imread('dom.png',cv2.IMREAD_GRAYSCALE)\n",
    "\n",
    "plt.imshow(I_dom, 'gray')\n",
    "plt.axis('off')\n",
    "plt.show()"
   ]
  },
  {
   "cell_type": "code",
   "execution_count": null,
   "metadata": {},
   "outputs": [],
   "source": [
    "I_dom_rgb = cv2.imread('dom.png')\n",
    "I_dom = cv2.imread('dom.png',cv2.IMREAD_GRAYSCALE)\n",
    "I_dom_med=cv2.GaussianBlur(I_dom, (15, 15), 0)\n",
    "I_dom_med=cv2.GaussianBlur(I_dom_med, (7, 7), 0)\n",
    "\n",
    "I_dom_can=cv2.Canny(I_dom_med,10,30,None,3,1)\n",
    "lines_3 = cv2.HoughLinesP(I_dom_can,1,np.pi/180,40,minLineLength=40,maxLineGap=5)\n",
    "for line in lines_3:\n",
    "    x1,y1,x2,y2 = line[0]\n",
    "    cv2.line(I_dom_rgb,(x1,y1),(x2,y2),(255,0,0),2)\n",
    "    \n",
    "    \n",
    "plt.imshow(I_dom_rgb)\n",
    "plt.axis('off')\n",
    "plt.show()"
   ]
  }
 ],
 "metadata": {
  "celltoolbar": "Raw Cell Format",
  "kernelspec": {
   "display_name": "Python 3",
   "language": "python",
   "name": "python3"
  },
  "language_info": {
   "codemirror_mode": {
    "name": "ipython",
    "version": 3
   },
   "file_extension": ".py",
   "mimetype": "text/x-python",
   "name": "python",
   "nbconvert_exporter": "python",
   "pygments_lexer": "ipython3",
   "version": "3.8.5"
  }
 },
 "nbformat": 4,
 "nbformat_minor": 2
}
