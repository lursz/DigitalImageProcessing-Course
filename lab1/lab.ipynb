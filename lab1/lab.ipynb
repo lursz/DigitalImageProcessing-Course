{
  "cells": [
    {
      "cell_type": "markdown",
      "metadata": {
        "id": "7vMPJPonERJg"
      },
      "source": [
        "W ramach kursu będziemy wykorzystywać głównie bibliotekę OpenCV (Open Computer Vision Library).\n",
        "W trakcie niniejszego ćwiczenia zapoznamy się z podstawowymi funkcjonalnościami: wczytaniami, zapisywaniem, konwersją do inne przestrzeni barw.\n",
        "Zaznajomimy się również z Jupyter Notebook."
      ]
    },
    {
      "cell_type": "markdown",
      "metadata": {
        "id": "e4zAaB1sERJi"
      },
      "source": [
        "Wczytywanie obrazów z wykorzystaniem OpenCV.\n",
        "1. Zaimportuj bibliotekę OpenCV:\n",
        "        `import cv2`\n",
        "1. Zaimportuj bibliotekę pyplot z matplotlib jako plt:\n",
        "        `from matplotlib import pyplot as plt`\n",
        "1. Wygodną opcją jest możliwość pobierania danych (obrazów, ale też np. baz danych) z sieci.\n",
        "   Eliminuje to konieczność pobierania danych np. z Moodle oraz czyni uzupełniony Notebook \"samowystarczalnym\" - wystarczy go uruchomić.\n",
        "   * zaimportuj bibliotekę os `import os`\n",
        "   * zaimportuj bibliotekę request `import requests`\n",
        "   * stwórz zmienne na adres pobieranego pliku (*url*) i samą jego nazwę (*fileName*)\n",
        "   * sprawdź, czy taki plik istnieje (unikniemy wielokrotnego pobierania tych samych danych)\n",
        "        `if not os.path.exists(fileName) :`\n",
        "   * pobierz plik: `r = requests.get(url + fileName, allow_redirects=True)`\n",
        "   * zapisz na dysku: `open(fileName, 'wb').write(r.content)`\n",
        "\n",
        "1. Wykorzystując polecenie *imread* wczytaj obraz *mandril.jpg*\n",
        "1. Wyświetl obraz wykorzystując bibliotekę *pyplot*\n",
        "        plt.imshow(I)\n",
        "        plt.xticks([]), plt.yticks([])\n",
        "        plt.show()\n",
        "1. Jeśli ktoś nie wie jak powinien wyglądać mandryl, to proszę podglądnąć obraz na GitHub lub w sprawdzić w Interencie.\n",
        "   Przyczyną problemu jest sposób w jaki funkcja `imread` z OpenCV odczytuje obraz (BGR, zamiast RGB).\n",
        "   Obrazom kolorowym będzie poświęcone odrębne ćwiczenie, także nie będziemy w tym miejscu rozwijać tego wątku.\n",
        "1. W celu poprawnego wyświetlenia należy dokonać konwersji koloru z BGR na RGB.\n",
        "        I = cv2.cvtColor(I, cv2.COLOR_BGR2RGB)\n",
        "1. Dla porządku warto dodać, że w OpenCV do wyświetlania domyślnie wykorzystuje się funkcję `imshow`.\n",
        "   Jednakże w przypadku Jupyter Notebook to rozwiązanie ma pewne wady i dlatego nie będziemy jej używać.\n",
        "   Natomiast jeśli ktoś pracuje w \"czystym\" Python, to jest to na pewno równoważna funkcjonalność.\n"
      ]
    },
    {
      "cell_type": "code",
      "execution_count": 6,
      "metadata": {
        "id": "iALBqN0tERJj"
      },
      "outputs": [
        {
          "ename": "ImportError",
          "evalue": "libGL.so.1: cannot open shared object file: No such file or directory",
          "output_type": "error",
          "traceback": [
            "\u001b[0;31m---------------------------------------------------------------------------\u001b[0m",
            "\u001b[0;31mImportError\u001b[0m                               Traceback (most recent call last)",
            "\u001b[1;32m/home/lenovo/Projects/Przetwarzanie_obrazow_cyfrowych/lab1/lab.ipynb Cell 3\u001b[0m line \u001b[0;36m1\n\u001b[0;32m----> <a href='vscode-notebook-cell://wsl%2Bubuntu/home/lenovo/Projects/Przetwarzanie_obrazow_cyfrowych/lab1/lab.ipynb#W2sdnNjb2RlLXJlbW90ZQ%3D%3D?line=0'>1</a>\u001b[0m \u001b[39mimport\u001b[39;00m \u001b[39mcv2\u001b[39;00m\n\u001b[1;32m      <a href='vscode-notebook-cell://wsl%2Bubuntu/home/lenovo/Projects/Przetwarzanie_obrazow_cyfrowych/lab1/lab.ipynb#W2sdnNjb2RlLXJlbW90ZQ%3D%3D?line=1'>2</a>\u001b[0m \u001b[39mimport\u001b[39;00m \u001b[39mos\u001b[39;00m\n\u001b[1;32m      <a href='vscode-notebook-cell://wsl%2Bubuntu/home/lenovo/Projects/Przetwarzanie_obrazow_cyfrowych/lab1/lab.ipynb#W2sdnNjb2RlLXJlbW90ZQ%3D%3D?line=2'>3</a>\u001b[0m \u001b[39mfrom\u001b[39;00m \u001b[39mmatplotlib\u001b[39;00m \u001b[39mimport\u001b[39;00m pyplot \u001b[39mas\u001b[39;00m plt\n",
            "\u001b[0;31mImportError\u001b[0m: libGL.so.1: cannot open shared object file: No such file or directory"
          ]
        }
      ],
      "source": [
        "import cv2\n",
        "import os\n",
        "from matplotlib import pyplot as plt\n",
        "import requests\n",
        "\n",
        "url = 'https://raw.githubusercontent.com/vision-agh/poc_sw/master/01_Intro/'\n",
        "fileName = 'mandril.jpg'\n",
        "if not os.path.exists(fileName) :\n",
        "    r = requests.get(url + fileName, allow_redirects=True)\n",
        "    open(fileName, 'wb').write(r.content)"
      ]
    },
    {
      "cell_type": "markdown",
      "metadata": {
        "id": "Rn0dnRNmERJk"
      },
      "source": [
        "W praktycznych rozważaniach często analizuje się obrazy w odcieniach szarości (ang. *grayscale*).\n",
        "Do konwersji służy znana już funkcja `cvtColor` tylko tym razem z parametrem `cv2.COLOR_RGB2GRAY`.\n",
        "Proszę spróbować wyświetlić obraz.\n",
        "Może okazać się, że nadal jest kolorowy, choć inaczej.\n",
        "Dlaczego tak się dzieje zostanie obszerniej wyjaśnione pod koniec ćwiczenia.\n",
        "Na razie należy dodać polecenie `plt.gray()` przed `plt.show`.\n"
      ]
    },
    {
      "cell_type": "code",
      "execution_count": null,
      "metadata": {
        "id": "Ce3D-FtUERJk"
      },
      "outputs": [
        {
          "ename": "NameError",
          "evalue": "name 'cv2' is not defined",
          "output_type": "error",
          "traceback": [
            "\u001b[0;31m---------------------------------------------------------------------------\u001b[0m",
            "\u001b[0;31mNameError\u001b[0m                                 Traceback (most recent call last)",
            "\u001b[1;32m/home/lenovo/Projects/Przetwarzanie_obrazow_cyfrowych/lab1/lab.ipynb Cell 5\u001b[0m line \u001b[0;36m1\n\u001b[0;32m----> <a href='vscode-notebook-cell://wsl%2Bubuntu/home/lenovo/Projects/Przetwarzanie_obrazow_cyfrowych/lab1/lab.ipynb#W4sdnNjb2RlLXJlbW90ZQ%3D%3D?line=0'>1</a>\u001b[0m picure \u001b[39m=\u001b[39m cv2\u001b[39m.\u001b[39mimread(fileName)\n",
            "\u001b[0;31mNameError\u001b[0m: name 'cv2' is not defined"
          ]
        }
      ],
      "source": [
        "picure = cv2.imread(fileName)"
      ]
    },
    {
      "cell_type": "markdown",
      "metadata": {
        "id": "K-gRi3RiERJk"
      },
      "source": [
        "Czasami konieczne jest zapisanie przetworzonego obrazu.\n",
        "Służy do tego funkcja `cv2.imwrite`.\n",
        "Proszę zapisać szarą wersję mandryla w formacie *png*.\n",
        "Warto sprawdzić, czy obraz zapisał się poprawnie tj. otworzyć go w aplikacji do przeglądania obrazów."
      ]
    },
    {
      "cell_type": "code",
      "execution_count": null,
      "metadata": {
        "id": "gTW57GK_ERJl"
      },
      "outputs": [],
      "source": []
    },
    {
      "cell_type": "markdown",
      "metadata": {
        "id": "JgUzYIefERJl"
      },
      "source": [
        "Obraz w skali szarości możemy traktować jako dwuwymiarową funkcję $L(x,y)$, gdzie $x$, $y$ to współrzędne piksela, a $L(x,y)$ poziom jasności (najczęściej [0;255] - zapis na 8-bitach, typ *unsigned int*).\n",
        "Wyświetl obraz mandryl jako funkcję dwuwymiarową (uwaga - to chwilę się liczy):\n"
      ]
    },
    {
      "cell_type": "code",
      "execution_count": null,
      "metadata": {
        "id": "ySHP0mkoERJl"
      },
      "outputs": [],
      "source": [
        "import numpy as np\n",
        "\n",
        "# create grid\n",
        "xx, yy = np.mgrid[0:IG.shape[0], 0:IG.shape[1]]\n",
        "\n",
        "# create the figure\n",
        "fig = plt.figure()\n",
        "ax = fig.add_subplot(projection = '3d')\n",
        "ax.plot_surface(xx, yy, IG ,rstride=1, cstride=1, cmap=plt.get_cmap('gray'),\n",
        "        linewidth=0)\n",
        "\n",
        "# show it\n",
        "plt.show()"
      ]
    },
    {
      "cell_type": "markdown",
      "metadata": {
        "id": "Gbw8EhryERJn",
        "pycharm": {
          "name": "#%% md\n"
        }
      },
      "source": [
        "Komentarz:\n",
        "- używamy biblioteki do obliczeń *numpy*,\n",
        "- tworzymy siatkę punktów o rozmiarach takich jak obraz (*shape*),\n",
        "- rysujemy wykres 3D\n"
      ]
    },
    {
      "cell_type": "markdown",
      "metadata": {
        "id": "-BUuROqKERJn"
      },
      "source": [
        "Podczas przetwarzania i analizy obrazów przydatne bywają \"przekroje\" przez obraz, czyli wartości funkcji $L(x,y)$ w przypadku gdy $x$ lub $y$ jest ustalone.\n",
        "Wykonaj jeden wybrany przekrój w $x$ i $y$:\n",
        "- po pierwsze należy pobrać dany wiersz lub kolumnę - np. `S = IG[10,:]` (tu jedenasty wiersz),\n",
        "- po drugie stworzyć wykres złożony z dwóch subwykresów: `f, (ax1,ax2) = plt.subplots(1,2)`\n",
        "- dla każdego z nich ustawić tytuł (np. `ax1.set_title('XXX')`) oraz treść `ax1.plot(S)`,\n",
        "- na koniec całość wyświetlić `plt.show()`.\n",
        "\n",
        "\n",
        "\n",
        "\n"
      ]
    },
    {
      "cell_type": "code",
      "execution_count": null,
      "metadata": {
        "id": "U9MGTP9kERJn"
      },
      "outputs": [],
      "source": []
    },
    {
      "cell_type": "markdown",
      "metadata": {
        "id": "-vW-BZ4KERJn"
      },
      "source": [
        "Obrazy indeksowane składają się z dwóch macierzy - obrazu oraz tzw. mapy kolorów.\n",
        "W macierzy obrazu zapisane są wartości poszczególnych pikseli.\n",
        "Macierz mapy kolorów ma rozmiar $m \\times 3$ ($m$ wierszy, w~każdym 3 wartości - składowe R,G,B).\n",
        "Podczas wyświetlania, na podstawie wartości piksela, odczytywany jest kolor z macierzy mapy kolorów.\n",
        "W ten sposób możliwe staje się \"pokolorowanie\" obrazu w skali szarości (stąd wcześniej szary mandryl był kolorowy).\n",
        "Wykorzystanie pseudokoloru nie wpływa na ilość informacji zawartej na obrazku, pomaga jedynie przedstawić go w bardziej czytelnej (dla człowieka) formie.\n",
        "Przykładowo można uzyskać poprawę kontrastu, co jest ważne przy analizie np. obrazów medycznych.\n",
        "Bardziej obszerny opis i spis dostępnym map można znaleźć w [dokumentacji.](https://matplotlib.org/3.1.0/tutorials/colors/colormaps.html)\n",
        "\n",
        "Wykorzystując dokumentację oraz polecenie `plt.imshow(IG, cmap=plt.get_cmap('XXX'))` proszę wyświetlić obraz madryl w 4 różnych mapach kolorów.\n"
      ]
    },
    {
      "cell_type": "code",
      "execution_count": null,
      "metadata": {
        "id": "JMUuHovtERJn"
      },
      "outputs": [],
      "source": [
        "\n"
      ]
    },
    {
      "cell_type": "code",
      "execution_count": null,
      "metadata": {
        "id": "BhRKzDNkERJo"
      },
      "outputs": [],
      "source": []
    }
  ],
  "metadata": {
    "colab": {
      "provenance": []
    },
    "kernelspec": {
      "display_name": "Python 3",
      "language": "python",
      "name": "python3"
    },
    "language_info": {
      "codemirror_mode": {
        "name": "ipython",
        "version": 3
      },
      "file_extension": ".py",
      "mimetype": "text/x-python",
      "name": "python",
      "nbconvert_exporter": "python",
      "pygments_lexer": "ipython3",
      "version": "3.11.5"
    }
  },
  "nbformat": 4,
  "nbformat_minor": 0
}
